{
 "cells": [
  {
   "cell_type": "code",
   "execution_count": 3,
   "id": "ab42c33c",
   "metadata": {
    "deletable": false,
    "editable": false,
    "nbgrader": {
     "cell_type": "code",
     "checksum": "d3d3c2e2a84ff92fa02220ae689dc414",
     "grade": false,
     "grade_id": "cell-38b4529793385ad1",
     "locked": true,
     "schema_version": 3,
     "solution": false,
     "task": false
    }
   },
   "outputs": [],
   "source": [
    "from random import randrange\n",
    "import numpy as np\n",
    "from sklearn.metrics import mean_squared_error, log_loss\n",
    "from sklearn.datasets import load_breast_cancer, load_diabetes\n",
    "\n",
    "\n",
    "def grad_check_sparse(f, x, analytic_grad, num_checks=10, h=1e-5, error=1e-9):\n",
    "    \"\"\"\n",
    "    sample a few random elements and only return numerical\n",
    "    in this dimensions\n",
    "    \"\"\"\n",
    "\n",
    "    for i in range(num_checks):\n",
    "        ix = tuple([randrange(m) for m in x.shape])\n",
    "\n",
    "        oldval = x[ix]\n",
    "        x[ix] = oldval + h  # increment by h\n",
    "        fxph = f(x)  # evaluate f(x + h)\n",
    "        x[ix] = oldval - h  # increment by h\n",
    "        fxmh = f(x)  # evaluate f(x - h)\n",
    "        x[ix] = oldval  # reset\n",
    "\n",
    "        grad_numerical = (fxph - fxmh) / (2 * h)\n",
    "        grad_analytic = analytic_grad[ix]\n",
    "        rel_error = abs(grad_numerical - grad_analytic) / (\n",
    "            abs(grad_numerical) + abs(grad_analytic)\n",
    "        )\n",
    "        print(\n",
    "            \"numerical: %f analytic: %f, relative error: %e\"\n",
    "            % (grad_numerical, grad_analytic, rel_error)\n",
    "        )\n",
    "        assert rel_error < error\n",
    "\n",
    "def rel_error(x, y):\n",
    "    \"\"\" returns relative error \"\"\"\n",
    "    return np.max(np.abs(x - y) / (np.maximum(1e-8, np.abs(x) + np.abs(y))))"
   ]
  },
  {
   "cell_type": "markdown",
   "id": "cfec4298",
   "metadata": {},
   "source": [
    "# Linear regression"
   ]
  },
  {
   "cell_type": "code",
   "execution_count": 4,
   "id": "731a18bc",
   "metadata": {
    "deletable": false,
    "editable": false,
    "nbgrader": {
     "cell_type": "code",
     "checksum": "1159b5dc8c59570993ac39ae349c5037",
     "grade": false,
     "grade_id": "cell-3fb8ebd5eb97e246",
     "locked": true,
     "schema_version": 3,
     "solution": false,
     "task": false
    }
   },
   "outputs": [],
   "source": [
    "data = load_diabetes()\n",
    "X_train1, y_train1 = data.data, data.target\n",
    "w1 = np.random.randn(X_train1.shape[1]) * 0.0001\n",
    "b1 = np.random.randn(1) * 0.0001"
   ]
  },
  {
   "cell_type": "code",
   "execution_count": 94,
   "id": "f07dea71",
   "metadata": {
    "deletable": false,
    "nbgrader": {
     "cell_type": "code",
     "checksum": "baf9b75ec047c1cdb887ecb2bc2043a1",
     "grade": false,
     "grade_id": "cell-5ffdf99ad7cdfd69",
     "locked": false,
     "schema_version": 3,
     "solution": true,
     "task": false
    }
   },
   "outputs": [],
   "source": [
    "def mse_loss_naive(w, b, X, y, alpha=0):\n",
    "    \"\"\"\n",
    "    MSE loss function WITH FOR LOOPs\n",
    "    \n",
    "    Returns a tuple of:\n",
    "    - loss \n",
    "    - gradient with respect to weights w\n",
    "    - gradient with respect to bias b\n",
    "    \"\"\"\n",
    "    loss = 0.0\n",
    "    dw = np.zeros_like(w)\n",
    "    db = 0.0\n",
    "    \n",
    "    #dw\n",
    "    for i in range(w.shape[0]):\n",
    "        dw[i] = 2 * alpha*w[i]\n",
    "        for j in range(y.shape[0]):\n",
    "            dw[i] += (w.T@X[j] - y[j] + b)*X[j][i] \n",
    "           \n",
    "    dw = (2/y.shape[0])*dw\n",
    "    for i in range(w.shape[0]):\n",
    "        dw[i] += 2*alpha*w[i]\n",
    "        \n",
    "    #db\n",
    "    tmp = 0\n",
    "    for j in range(y.shape[0]):\n",
    "        tmp += (w.T@X[j] - y[j]) + b\n",
    "    db = (2/y.shape[0])*tmp\n",
    "    \n",
    "    #loss\n",
    "    tmp = 0\n",
    "    for j in range(y.shape[0]):\n",
    "        loss += (y[j] - (w.T@X[j] + b))**2\n",
    "        \n",
    "    loss = (1/y.shape[0])*loss\n",
    "    \n",
    "    for i in range(w.shape[0]):\n",
    "        loss += alpha * w[i]**2\n",
    "    \n",
    "    return loss, dw, np.array(db).reshape(1,)"
   ]
  },
  {
   "cell_type": "markdown",
   "id": "bddacc5d",
   "metadata": {},
   "source": [
    "## Naive Linear regression loss"
   ]
  },
  {
   "cell_type": "code",
   "execution_count": 95,
   "id": "86cdcedc",
   "metadata": {
    "deletable": false,
    "editable": false,
    "nbgrader": {
     "cell_type": "code",
     "checksum": "67581686e36845f8ef8aacd81c1a201b",
     "grade": true,
     "grade_id": "cell-079e42b153b67a60",
     "locked": true,
     "points": 1,
     "schema_version": 3,
     "solution": false,
     "task": false
    }
   },
   "outputs": [
    {
     "name": "stdout",
     "output_type": "stream",
     "text": [
      "Loss error :  1.8768911494382515e-16\n",
      "Gradient check w\n",
      "numerical: -3.234127 analytic: -3.234125, relative error: 2.927403e-07\n",
      "numerical: -2.801915 analytic: -2.801913, relative error: 3.603976e-07\n",
      "numerical: -0.315454 analytic: -0.315454, relative error: 4.125827e-07\n",
      "numerical: 2.892059 analytic: 2.892060, relative error: 1.620784e-07\n",
      "numerical: -1.553188 analytic: -1.553187, relative error: 2.317481e-07\n",
      "numerical: -1.553188 analytic: -1.553187, relative error: 2.317481e-07\n",
      "numerical: 2.892059 analytic: 2.892060, relative error: 1.620784e-07\n",
      "numerical: -3.153316 analytic: -3.153316, relative error: 2.185089e-08\n",
      "numerical: -1.275045 analytic: -1.275043, relative error: 6.115693e-07\n",
      "numerical: -4.145424 analytic: -4.145423, relative error: 1.398897e-07\n",
      "numerical: -3.153316 analytic: -3.153316, relative error: 2.185089e-08\n",
      "numerical: -0.315454 analytic: -0.315454, relative error: 4.125827e-07\n",
      "numerical: -1.376393 analytic: -1.376394, relative error: 2.454919e-07\n",
      "numerical: -0.315454 analytic: -0.315454, relative error: 4.125827e-07\n",
      "numerical: -2.801915 analytic: -2.801913, relative error: 3.603976e-07\n",
      "Gradient check bias\n",
      "numerical: -304.267126 analytic: -304.267126, relative error: 3.777133e-10\n",
      "numerical: -304.267126 analytic: -304.267126, relative error: 3.777133e-10\n",
      "numerical: -304.267126 analytic: -304.267126, relative error: 3.777133e-10\n",
      "numerical: -304.267126 analytic: -304.267126, relative error: 3.777133e-10\n",
      "numerical: -304.267126 analytic: -304.267126, relative error: 3.777133e-10\n",
      "numerical: -304.267126 analytic: -304.267126, relative error: 3.777133e-10\n",
      "numerical: -304.267126 analytic: -304.267126, relative error: 3.777133e-10\n",
      "numerical: -304.267126 analytic: -304.267126, relative error: 3.777133e-10\n",
      "numerical: -304.267126 analytic: -304.267126, relative error: 3.777133e-10\n",
      "numerical: -304.267126 analytic: -304.267126, relative error: 3.777133e-10\n",
      "numerical: -304.267126 analytic: -304.267126, relative error: 3.777133e-10\n",
      "numerical: -304.267126 analytic: -304.267126, relative error: 3.777133e-10\n",
      "numerical: -304.267126 analytic: -304.267126, relative error: 3.777133e-10\n",
      "numerical: -304.267126 analytic: -304.267126, relative error: 3.777133e-10\n",
      "numerical: -304.267126 analytic: -304.267126, relative error: 3.777133e-10\n"
     ]
    }
   ],
   "source": [
    "loss, dw1, db1 = mse_loss_naive(w1, b1, X_train1, y_train1, alpha=0)\n",
    "\n",
    "sk_loss = mean_squared_error(X_train1 @ w1 + b1, y_train1)\n",
    "assert rel_error(loss, sk_loss) < 1e-9\n",
    "print(\"Loss error : \",rel_error(loss, sk_loss))\n",
    "\n",
    "print(\"Gradient check w\")\n",
    "# Check with numerical gradient w\n",
    "f = lambda w1: mse_loss_naive(w1, b1, X_train1, y_train1, alpha=0)[0]\n",
    "grad_numerical = grad_check_sparse(f, w1, dw1, 15,  error=1e-5)\n",
    "\n",
    "print(\"Gradient check bias\")\n",
    "# Check with numerical gradient b\n",
    "f2 = lambda b1: mse_loss_naive(w1, b1, X_train1, y_train1, alpha=0)[0]\n",
    "grad_numerical = grad_check_sparse(f2, b1, db1, 15,  error=1e-5)"
   ]
  },
  {
   "cell_type": "markdown",
   "id": "db438d3f",
   "metadata": {},
   "source": [
    "## Naive Ridge regression loss"
   ]
  },
  {
   "cell_type": "code",
   "execution_count": 96,
   "id": "36465817",
   "metadata": {
    "deletable": false,
    "editable": false,
    "nbgrader": {
     "cell_type": "code",
     "checksum": "9ca5790893e5950341f7370bb3be167c",
     "grade": true,
     "grade_id": "cell-14a64cb1cfe70b98",
     "locked": true,
     "points": 1,
     "schema_version": 3,
     "solution": false,
     "task": false
    }
   },
   "outputs": [
    {
     "name": "stdout",
     "output_type": "stream",
     "text": [
      "Gradient check w\n",
      "numerical: -3.234310 analytic: -3.234309, relative error: 1.800654e-07\n",
      "numerical: -3.234310 analytic: -3.234309, relative error: 1.800654e-07\n",
      "numerical: -1.376516 analytic: -1.376517, relative error: 4.678099e-07\n",
      "numerical: -0.315506 analytic: -0.315505, relative error: 1.215614e-07\n",
      "numerical: 2.892047 analytic: 2.892048, relative error: 1.420538e-07\n",
      "numerical: -1.376516 analytic: -1.376517, relative error: 4.678099e-07\n",
      "numerical: -1.552924 analytic: -1.552922, relative error: 6.240039e-07\n",
      "numerical: -0.315506 analytic: -0.315505, relative error: 1.215614e-07\n",
      "numerical: -1.275260 analytic: -1.275260, relative error: 2.650219e-07\n",
      "numerical: -4.296261 analytic: -4.296259, relative error: 2.531005e-07\n",
      "numerical: -3.234310 analytic: -3.234309, relative error: 1.800654e-07\n",
      "numerical: -2.801818 analytic: -2.801816, relative error: 4.538960e-07\n",
      "numerical: -4.296261 analytic: -4.296259, relative error: 2.531005e-07\n",
      "numerical: 2.892047 analytic: 2.892048, relative error: 1.420538e-07\n",
      "numerical: -3.234310 analytic: -3.234309, relative error: 1.800654e-07\n",
      "Gradient check bias\n",
      "numerical: -304.267126 analytic: -304.267126, relative error: 3.777133e-10\n",
      "numerical: -304.267126 analytic: -304.267126, relative error: 3.777133e-10\n",
      "numerical: -304.267126 analytic: -304.267126, relative error: 3.777133e-10\n",
      "numerical: -304.267126 analytic: -304.267126, relative error: 3.777133e-10\n",
      "numerical: -304.267126 analytic: -304.267126, relative error: 3.777133e-10\n",
      "numerical: -304.267126 analytic: -304.267126, relative error: 3.777133e-10\n",
      "numerical: -304.267126 analytic: -304.267126, relative error: 3.777133e-10\n",
      "numerical: -304.267126 analytic: -304.267126, relative error: 3.777133e-10\n",
      "numerical: -304.267126 analytic: -304.267126, relative error: 3.777133e-10\n",
      "numerical: -304.267126 analytic: -304.267126, relative error: 3.777133e-10\n",
      "numerical: -304.267126 analytic: -304.267126, relative error: 3.777133e-10\n",
      "numerical: -304.267126 analytic: -304.267126, relative error: 3.777133e-10\n",
      "numerical: -304.267126 analytic: -304.267126, relative error: 3.777133e-10\n",
      "numerical: -304.267126 analytic: -304.267126, relative error: 3.777133e-10\n",
      "numerical: -304.267126 analytic: -304.267126, relative error: 3.777133e-10\n"
     ]
    }
   ],
   "source": [
    "loss, dw1, db1 = mse_loss_naive(w1, b1, X_train1, y_train1, alpha=1)\n",
    "\n",
    "print(\"Gradient check w\")\n",
    "# Check with numerical gradient w\n",
    "f = lambda w1: mse_loss_naive(w1, b1, X_train1, y_train1, alpha=1)[0]\n",
    "grad_numerical = grad_check_sparse(f, w1, dw1, 15,  error=1e-5)\n",
    "\n",
    "print(\"Gradient check bias\")\n",
    "# Check with numerical gradient b\n",
    "f2 = lambda b1: mse_loss_naive(w1, b1, X_train1, y_train1, alpha=1)[0]\n",
    "grad_numerical = grad_check_sparse(f2, b1, db1, 15,  error=1e-5)"
   ]
  },
  {
   "cell_type": "code",
   "execution_count": 97,
   "id": "5c6b011f",
   "metadata": {
    "deletable": false,
    "nbgrader": {
     "cell_type": "code",
     "checksum": "21b3a09270262dbad9cb1c15c0fc69f8",
     "grade": false,
     "grade_id": "cell-1528a28f467d90c7",
     "locked": false,
     "schema_version": 3,
     "solution": true,
     "task": false
    }
   },
   "outputs": [],
   "source": [
    "def mse_loss_vectorized(w, b, X, y, alpha=0):\n",
    "    \"\"\"\n",
    "    MSE loss function WITHOUT FOR LOOPs\n",
    "    \n",
    "    Returns a tuple of:\n",
    "    - loss \n",
    "    - gradient with respect to weights w\n",
    "    - gradient with respect to bias b\n",
    "    \"\"\"\n",
    "    loss = 0.0\n",
    "    dw = np.zeros_like(w)\n",
    "    db = 0.0\n",
    "    \n",
    "    #loss\n",
    "    loss = (1/(y.shape[0])) *(((X@w) - y + b).T @ ((X@w) - y + b)) + alpha * (w.T@w)\n",
    "\n",
    "    #dw\n",
    "    dw = 2*alpha*w\n",
    "    tmp = X.T@((X@w) - y + b)\n",
    "    dw += (2/y.shape[0])*tmp \n",
    "    \n",
    "    #db\n",
    "    tmp = ((X@w - y) + b).sum()\n",
    "    db = (2/y.shape[0]) * tmp\n",
    "\n",
    "    return loss, dw, np.array(db).reshape(1,)\n"
   ]
  },
  {
   "cell_type": "markdown",
   "id": "1d9bff00",
   "metadata": {},
   "source": [
    "## Vectorised Linear regression loss"
   ]
  },
  {
   "cell_type": "code",
   "execution_count": 98,
   "id": "05dd3b4d",
   "metadata": {
    "deletable": false,
    "editable": false,
    "nbgrader": {
     "cell_type": "code",
     "checksum": "ffc6cc1a998e8ed785bea62c0208ce04",
     "grade": true,
     "grade_id": "cell-41637ca21c8f938d",
     "locked": true,
     "points": 1,
     "schema_version": 3,
     "solution": false,
     "task": false
    }
   },
   "outputs": [
    {
     "name": "stdout",
     "output_type": "stream",
     "text": [
      "Loss error :  6.256303831460837e-17\n",
      "Gradient check w\n",
      "numerical: -1.275043 analytic: -1.275043, relative error: 4.092561e-08\n",
      "numerical: -4.296087 analytic: -4.296087, relative error: 2.130632e-08\n",
      "numerical: -1.376394 analytic: -1.376394, relative error: 4.725760e-08\n",
      "numerical: -1.275043 analytic: -1.275043, relative error: 4.092561e-08\n",
      "numerical: -3.234125 analytic: -3.234125, relative error: 1.152227e-08\n",
      "numerical: -1.553187 analytic: -1.553187, relative error: 6.103518e-08\n",
      "numerical: -3.234125 analytic: -3.234125, relative error: 1.152227e-08\n",
      "numerical: -3.153316 analytic: -3.153316, relative error: 6.991591e-09\n",
      "numerical: -3.234125 analytic: -3.234125, relative error: 1.152227e-08\n",
      "numerical: 2.892060 analytic: 2.892060, relative error: 4.838398e-09\n",
      "numerical: -4.296087 analytic: -4.296087, relative error: 2.130632e-08\n",
      "numerical: -1.275043 analytic: -1.275043, relative error: 4.092561e-08\n",
      "numerical: -1.376394 analytic: -1.376394, relative error: 4.725760e-08\n",
      "numerical: -1.275043 analytic: -1.275043, relative error: 4.092561e-08\n",
      "numerical: -1.275043 analytic: -1.275043, relative error: 4.092561e-08\n",
      "Gradient check bias\n",
      "numerical: -304.267126 analytic: -304.267126, relative error: 2.201134e-10\n",
      "numerical: -304.267126 analytic: -304.267126, relative error: 2.201134e-10\n",
      "numerical: -304.267126 analytic: -304.267126, relative error: 2.201134e-10\n",
      "numerical: -304.267126 analytic: -304.267126, relative error: 2.201134e-10\n",
      "numerical: -304.267126 analytic: -304.267126, relative error: 2.201134e-10\n",
      "numerical: -304.267126 analytic: -304.267126, relative error: 2.201134e-10\n",
      "numerical: -304.267126 analytic: -304.267126, relative error: 2.201134e-10\n",
      "numerical: -304.267126 analytic: -304.267126, relative error: 2.201134e-10\n",
      "numerical: -304.267126 analytic: -304.267126, relative error: 2.201134e-10\n",
      "numerical: -304.267126 analytic: -304.267126, relative error: 2.201134e-10\n",
      "numerical: -304.267126 analytic: -304.267126, relative error: 2.201134e-10\n",
      "numerical: -304.267126 analytic: -304.267126, relative error: 2.201134e-10\n",
      "numerical: -304.267126 analytic: -304.267126, relative error: 2.201134e-10\n",
      "numerical: -304.267126 analytic: -304.267126, relative error: 2.201134e-10\n",
      "numerical: -304.267126 analytic: -304.267126, relative error: 2.201134e-10\n"
     ]
    }
   ],
   "source": [
    "loss, dw1, db1 = mse_loss_vectorized(w1, b1, X_train1, y_train1, alpha=0)\n",
    "\n",
    "sk_loss = mean_squared_error(X_train1 @ w1 + b1, y_train1)\n",
    "assert rel_error(loss, sk_loss) < 1e-9\n",
    "print(\"Loss error : \",rel_error(loss, sk_loss))\n",
    "\n",
    "print(\"Gradient check w\")\n",
    "# Check with numerical gradient w\n",
    "f = lambda w1: mse_loss_vectorized(w1, b1, X_train1, y_train1, alpha=0)[0]\n",
    "grad_numerical = grad_check_sparse(f, w1, dw1, 15,  error=1e-5)\n",
    "\n",
    "print(\"Gradient check bias\")\n",
    "# Check with numerical gradient b\n",
    "f2 = lambda b1: mse_loss_vectorized(w1, b1, X_train1, y_train1, alpha=0)[0]\n",
    "grad_numerical = grad_check_sparse(f2, b1, db1, 15,  error=1e-5)"
   ]
  },
  {
   "cell_type": "markdown",
   "id": "27c8575f",
   "metadata": {},
   "source": [
    "## Vectorized ridge regression loss"
   ]
  },
  {
   "cell_type": "code",
   "execution_count": 99,
   "id": "6aa107f7",
   "metadata": {
    "deletable": false,
    "editable": false,
    "nbgrader": {
     "cell_type": "code",
     "checksum": "89b351bee282f05c3f74c9541b3a825e",
     "grade": true,
     "grade_id": "cell-bb0ff99c19a85e0f",
     "locked": true,
     "points": 1,
     "schema_version": 3,
     "solution": false,
     "task": false
    }
   },
   "outputs": [
    {
     "name": "stdout",
     "output_type": "stream",
     "text": [
      "Gradient check w\n",
      "numerical: -0.315505 analytic: -0.315505, relative error: 1.994834e-07\n",
      "numerical: -0.315505 analytic: -0.315505, relative error: 1.994834e-07\n",
      "numerical: -2.801816 analytic: -2.801816, relative error: 5.122305e-08\n",
      "numerical: 2.892048 analytic: 2.892048, relative error: 2.541763e-08\n",
      "numerical: -4.145108 analytic: -4.145108, relative error: 8.256742e-09\n",
      "numerical: -1.275259 analytic: -1.275259, relative error: 7.672142e-08\n",
      "numerical: -1.275259 analytic: -1.275259, relative error: 7.672142e-08\n",
      "numerical: -3.234308 analytic: -3.234308, relative error: 1.575207e-09\n",
      "numerical: -1.376516 analytic: -1.376516, relative error: 6.888701e-08\n",
      "numerical: -2.801816 analytic: -2.801816, relative error: 5.122305e-08\n",
      "numerical: -0.315505 analytic: -0.315505, relative error: 1.994834e-07\n",
      "numerical: -1.552923 analytic: -1.552923, relative error: 5.312583e-08\n",
      "numerical: -4.296258 analytic: -4.296258, relative error: 1.666341e-08\n",
      "numerical: 2.892048 analytic: 2.892048, relative error: 2.541763e-08\n",
      "numerical: 2.892048 analytic: 2.892048, relative error: 2.541763e-08\n",
      "Gradient check bias\n",
      "numerical: -304.267126 analytic: -304.267126, relative error: 2.201134e-10\n",
      "numerical: -304.267126 analytic: -304.267126, relative error: 2.201134e-10\n",
      "numerical: -304.267126 analytic: -304.267126, relative error: 2.201134e-10\n",
      "numerical: -304.267126 analytic: -304.267126, relative error: 2.201134e-10\n",
      "numerical: -304.267126 analytic: -304.267126, relative error: 2.201134e-10\n",
      "numerical: -304.267126 analytic: -304.267126, relative error: 2.201134e-10\n",
      "numerical: -304.267126 analytic: -304.267126, relative error: 2.201134e-10\n",
      "numerical: -304.267126 analytic: -304.267126, relative error: 2.201134e-10\n",
      "numerical: -304.267126 analytic: -304.267126, relative error: 2.201134e-10\n",
      "numerical: -304.267126 analytic: -304.267126, relative error: 2.201134e-10\n",
      "numerical: -304.267126 analytic: -304.267126, relative error: 2.201134e-10\n",
      "numerical: -304.267126 analytic: -304.267126, relative error: 2.201134e-10\n",
      "numerical: -304.267126 analytic: -304.267126, relative error: 2.201134e-10\n",
      "numerical: -304.267126 analytic: -304.267126, relative error: 2.201134e-10\n",
      "numerical: -304.267126 analytic: -304.267126, relative error: 2.201134e-10\n"
     ]
    }
   ],
   "source": [
    "loss, dw1, db1 = mse_loss_vectorized(w1, b1, X_train1, y_train1, alpha=1)\n",
    "\n",
    "print(\"Gradient check w\")\n",
    "# Check with numerical gradient w\n",
    "f = lambda w1: mse_loss_vectorized(w1, b1, X_train1, y_train1, alpha=1)[0]\n",
    "grad_numerical = grad_check_sparse(f, w1, dw1, 15,  error=1e-5)\n",
    "\n",
    "print(\"Gradient check bias\")\n",
    "# Check with numerical gradient b\n",
    "f2 = lambda b1: mse_loss_vectorized(w1, b1, X_train1, y_train1, alpha=1)[0]\n",
    "grad_numerical = grad_check_sparse(f2, b1, db1, 15,  error=1e-5)"
   ]
  },
  {
   "cell_type": "markdown",
   "id": "c3c7ae33",
   "metadata": {},
   "source": [
    "# Logistic regression"
   ]
  },
  {
   "cell_type": "code",
   "execution_count": 100,
   "id": "bb6d1eb4",
   "metadata": {
    "deletable": false,
    "editable": false,
    "nbgrader": {
     "cell_type": "code",
     "checksum": "fd86b658f3ec113c00c2ee2e195f550f",
     "grade": false,
     "grade_id": "cell-434ec399cf8aeea7",
     "locked": true,
     "schema_version": 3,
     "solution": false,
     "task": false
    }
   },
   "outputs": [],
   "source": [
    "def sigmoid(z):\n",
    "    return 1 / (1 + np.exp(-z))\n",
    "\n",
    "data = load_breast_cancer()\n",
    "X_train2, y_train2 = data.data, data.target\n",
    "w2 = np.random.randn(X_train2.shape[1]) * 0.0001\n",
    "b2 = np.random.randn(1) * 0.0001"
   ]
  },
  {
   "cell_type": "markdown",
   "id": "d97e5d16",
   "metadata": {},
   "source": [
    "# Naive"
   ]
  },
  {
   "cell_type": "code",
   "execution_count": 101,
   "id": "4690c331",
   "metadata": {
    "deletable": false,
    "nbgrader": {
     "cell_type": "code",
     "checksum": "a4357b941a04e6dc51a2683b7f4d91ed",
     "grade": false,
     "grade_id": "cell-6ec156568b0c6e29",
     "locked": false,
     "schema_version": 3,
     "solution": true,
     "task": false
    }
   },
   "outputs": [],
   "source": [
    "def log_loss_naive(w, b, X, y, alpha=0):\n",
    "    \"\"\"\n",
    "    log loss function WITH FOR LOOPs\n",
    "    \n",
    "    Returns a tuple of:\n",
    "    - loss \n",
    "    - gradient with respect to weights w\n",
    "    \"\"\"\n",
    "    loss = 0.0\n",
    "    dw = np.zeros_like(w)\n",
    "    db = 0.0\n",
    "    \n",
    "    # dw\n",
    "    for i in range(w.shape[0]):\n",
    "        #dw[i] = 2/y.shape[0]*alpha*w[i]\n",
    "        dw[i] = 2*alpha*w[i]\n",
    "        tmp = 0\n",
    "        for j in range(y.shape[0]):\n",
    "            tmp += (sigmoid(w.T@X[j] + b) - y[j])*X[j][i]\n",
    "\n",
    "        dw[i] += 1/y.shape[0]*tmp\n",
    "    \n",
    "    # loss\n",
    "    for i in range(y.shape[0]):\n",
    "        loss -= y[i]*np.log(sigmoid((w.T@X[i]) +b)) + (1-y[i])*np.log(1-sigmoid((w.T@X[i]) + b)) \n",
    "        \n",
    "    loss = 1/y.shape[0]*loss\n",
    "    \n",
    "    for i in range(w.shape[0]):\n",
    "        loss += alpha*(w[i]**2)\n",
    "    \n",
    "    \n",
    "    # db\n",
    "    tmp = 0\n",
    "    for j in range(y.shape[0]):\n",
    "        tmp += sigmoid((w.T@X[j]) + b) -y[j]\n",
    "    db = (1/y.shape[0])*tmp\n",
    "    \n",
    "    return loss, dw, np.array(db).reshape(1,)"
   ]
  },
  {
   "cell_type": "code",
   "execution_count": 102,
   "id": "f54b1bca",
   "metadata": {
    "deletable": false,
    "editable": false,
    "nbgrader": {
     "cell_type": "code",
     "checksum": "97d1606d0c00119f8956e4ef60ad346f",
     "grade": true,
     "grade_id": "cell-d3c078eb2449ee61",
     "locked": true,
     "points": 1,
     "schema_version": 3,
     "solution": false,
     "task": false
    }
   },
   "outputs": [
    {
     "name": "stdout",
     "output_type": "stream",
     "text": [
      "Loss error :  1.6025524267140178e-16\n",
      "Gradient check w\n",
      "numerical: -0.783596 analytic: -0.783596, relative error: 3.474829e-10\n",
      "numerical: 25.461410 analytic: 25.461285, relative error: 2.453587e-06\n",
      "numerical: 0.000254 analytic: 0.000254, relative error: 3.102982e-08\n",
      "numerical: -0.000862 analytic: -0.000862, relative error: 1.385546e-08\n",
      "numerical: 0.017422 analytic: 0.017422, relative error: 8.363594e-10\n",
      "numerical: 25.461410 analytic: 25.461285, relative error: 2.453587e-06\n",
      "numerical: -0.000862 analytic: -0.000862, relative error: 1.385546e-08\n",
      "numerical: 6.132527 analytic: 6.132527, relative error: 1.785566e-08\n",
      "numerical: -0.009087 analytic: -0.009087, relative error: 9.546370e-10\n",
      "numerical: 6.132527 analytic: 6.132527, relative error: 1.785566e-08\n",
      "numerical: 73.683412 analytic: 73.683019, relative error: 2.669651e-06\n",
      "numerical: -0.011252 analytic: -0.011252, relative error: 1.351789e-09\n",
      "numerical: -0.002936 analytic: -0.002936, relative error: 2.049920e-09\n",
      "numerical: 73.683412 analytic: 73.683019, relative error: 2.669651e-06\n",
      "numerical: -1.883018 analytic: -1.883018, relative error: 2.878610e-10\n",
      "Gradient check bias\n",
      "numerical: -0.141923 analytic: -0.141923, relative error: 5.228468e-11\n",
      "numerical: -0.141923 analytic: -0.141923, relative error: 5.228468e-11\n",
      "numerical: -0.141923 analytic: -0.141923, relative error: 5.228468e-11\n",
      "numerical: -0.141923 analytic: -0.141923, relative error: 5.228468e-11\n",
      "numerical: -0.141923 analytic: -0.141923, relative error: 5.228468e-11\n",
      "numerical: -0.141923 analytic: -0.141923, relative error: 5.228468e-11\n",
      "numerical: -0.141923 analytic: -0.141923, relative error: 5.228468e-11\n",
      "numerical: -0.141923 analytic: -0.141923, relative error: 5.228468e-11\n",
      "numerical: -0.141923 analytic: -0.141923, relative error: 5.228468e-11\n",
      "numerical: -0.141923 analytic: -0.141923, relative error: 5.228468e-11\n",
      "numerical: -0.141923 analytic: -0.141923, relative error: 5.228468e-11\n",
      "numerical: -0.141923 analytic: -0.141923, relative error: 5.228468e-11\n",
      "numerical: -0.141923 analytic: -0.141923, relative error: 5.228468e-11\n",
      "numerical: -0.141923 analytic: -0.141923, relative error: 5.228468e-11\n",
      "numerical: -0.141923 analytic: -0.141923, relative error: 5.228468e-11\n"
     ]
    }
   ],
   "source": [
    "y_pred_0 = sigmoid(X_train2 @ w2 + b2)\n",
    "y_pred = np.vstack([1-y_pred_0, y_pred_0]).T\n",
    "sk_loss = log_loss(y_train2, y_pred)\n",
    "\n",
    "loss, dw2, db2 = log_loss_naive(w2, b2, X_train2, y_train2, alpha=0)\n",
    "assert rel_error(loss, sk_loss) < 1e-9\n",
    "print(\"Loss error : \",rel_error(loss, sk_loss))\n",
    "\n",
    "print(\"Gradient check w\")\n",
    "# Check with numerical gradient w\n",
    "f = lambda w2: log_loss_naive(w2, b2, X_train2, y_train2, alpha=0)[0]\n",
    "grad_numerical = grad_check_sparse(f, w2, dw2, 15, error=1e-4)\n",
    "\n",
    "print(\"Gradient check bias\")\n",
    "# Check with numerical gradient b\n",
    "f2 = lambda b2: log_loss_naive(w2, b2, X_train2, y_train2, alpha=0)[0]\n",
    "grad_numerical = grad_check_sparse(f2, b2, db2, 15,  error=1e-5)"
   ]
  },
  {
   "cell_type": "markdown",
   "id": "5e1e8516",
   "metadata": {},
   "source": [
    "# Naive with regulariztion"
   ]
  },
  {
   "cell_type": "code",
   "execution_count": 103,
   "id": "79f6f9a6",
   "metadata": {
    "deletable": false,
    "editable": false,
    "nbgrader": {
     "cell_type": "code",
     "checksum": "cb3c9584e2ca3502e5068d5c1ee2df96",
     "grade": true,
     "grade_id": "cell-b91805308ad91ec5",
     "locked": true,
     "points": 1,
     "schema_version": 3,
     "solution": false,
     "task": false
    }
   },
   "outputs": [
    {
     "name": "stdout",
     "output_type": "stream",
     "text": [
      "Gradient check w\n",
      "numerical: -0.523745 analytic: -0.523745, relative error: 9.775764e-10\n",
      "numerical: -0.783390 analytic: -0.783390, relative error: 3.492226e-10\n",
      "numerical: -0.014601 analytic: -0.014601, relative error: 1.532692e-09\n",
      "numerical: -0.001086 analytic: -0.001086, relative error: 1.594146e-08\n",
      "numerical: -0.000068 analytic: -0.000068, relative error: 1.200627e-07\n",
      "numerical: -0.028808 analytic: -0.028808, relative error: 7.353882e-11\n",
      "numerical: -2.706662 analytic: -2.706663, relative error: 5.139840e-08\n",
      "numerical: -0.011717 analytic: -0.011717, relative error: 1.191723e-09\n",
      "numerical: -0.003331 analytic: -0.003331, relative error: 2.245939e-09\n",
      "numerical: -0.014601 analytic: -0.014601, relative error: 1.532692e-09\n",
      "numerical: 0.016921 analytic: 0.016921, relative error: 8.170188e-10\n",
      "numerical: -4.482691 analytic: -4.482691, relative error: 1.759585e-08\n",
      "numerical: -0.174697 analytic: -0.174697, relative error: 1.680508e-11\n",
      "numerical: -1.882964 analytic: -1.882964, relative error: 2.875395e-10\n",
      "numerical: -0.014601 analytic: -0.014601, relative error: 1.532692e-09\n",
      "Gradient check bias\n",
      "numerical: -0.141923 analytic: -0.141923, relative error: 5.228468e-11\n",
      "numerical: -0.141923 analytic: -0.141923, relative error: 5.228468e-11\n",
      "numerical: -0.141923 analytic: -0.141923, relative error: 5.228468e-11\n",
      "numerical: -0.141923 analytic: -0.141923, relative error: 5.228468e-11\n",
      "numerical: -0.141923 analytic: -0.141923, relative error: 5.228468e-11\n",
      "numerical: -0.141923 analytic: -0.141923, relative error: 5.228468e-11\n",
      "numerical: -0.141923 analytic: -0.141923, relative error: 5.228468e-11\n",
      "numerical: -0.141923 analytic: -0.141923, relative error: 5.228468e-11\n",
      "numerical: -0.141923 analytic: -0.141923, relative error: 5.228468e-11\n",
      "numerical: -0.141923 analytic: -0.141923, relative error: 5.228468e-11\n",
      "numerical: -0.141923 analytic: -0.141923, relative error: 5.228468e-11\n",
      "numerical: -0.141923 analytic: -0.141923, relative error: 5.228468e-11\n",
      "numerical: -0.141923 analytic: -0.141923, relative error: 5.228468e-11\n",
      "numerical: -0.141923 analytic: -0.141923, relative error: 5.228468e-11\n",
      "numerical: -0.141923 analytic: -0.141923, relative error: 5.228468e-11\n"
     ]
    }
   ],
   "source": [
    "loss, dw2, db2 = log_loss_naive(w2, b2, X_train2, y_train2, alpha=1)\n",
    "\n",
    "print(\"Gradient check w\")\n",
    "# Check with numerical gradient w\n",
    "f = lambda w2: log_loss_naive(w2, b2, X_train2, y_train2, alpha=1)[0]\n",
    "grad_numerical = grad_check_sparse(f, w2, dw2, 15, error=1e-4)\n",
    "\n",
    "print(\"Gradient check bias\")\n",
    "# Check with numerical gradient b\n",
    "f2 = lambda b2: log_loss_naive(w2, b2, X_train2, y_train2, alpha=1)[0]\n",
    "grad_numerical = grad_check_sparse(f2, b2, db2, 15,  error=1e-5)"
   ]
  },
  {
   "cell_type": "markdown",
   "id": "31564092",
   "metadata": {},
   "source": [
    "# Vectorized"
   ]
  },
  {
   "cell_type": "code",
   "execution_count": 104,
   "id": "fc5084e9",
   "metadata": {
    "deletable": false,
    "nbgrader": {
     "cell_type": "code",
     "checksum": "6f452aaa24d69e2257c0851d750fd4aa",
     "grade": false,
     "grade_id": "cell-a96e9a6d51919ffc",
     "locked": false,
     "schema_version": 3,
     "solution": true,
     "task": false
    }
   },
   "outputs": [],
   "source": [
    "def log_loss_vectorized(w, b,X, y, alpha=0):\n",
    "    \"\"\"\n",
    "    log loss function WITHOUT FOR LOOPs\n",
    "    \n",
    "    Returns a tuple of:\n",
    "    - loss \n",
    "    - gradient with respect to weights w\n",
    "    \"\"\"\n",
    "    loss = 0.0\n",
    "    dw = np.zeros_like(w)\n",
    "    db = 0.0\n",
    "    \n",
    "    # YOUR CODE HERE\n",
    "    # loss\n",
    "    loss -= ( np.multiply(y,np.log(sigmoid((X@w) + b))) + np.multiply(1-y , np.log(1-sigmoid((X@w) + b)))).sum()\n",
    "    loss = (1/y.shape[0]) * loss\n",
    "    loss += alpha*(w.T@w)\n",
    "    \n",
    "    # dw\n",
    "    dw = 2*alpha*w\n",
    "    tmp = X.T@(sigmoid(X@w + b) - y)\n",
    "    dw += (1/y.shape[0])*tmp \n",
    "    \n",
    "    #db\n",
    "    db = (sigmoid(X@w +b) - y).sum()\n",
    "    db = 1/y.shape[0]*db\n",
    "    return loss, dw, np.array(db).reshape(1,)\n"
   ]
  },
  {
   "cell_type": "code",
   "execution_count": 105,
   "id": "c425e768",
   "metadata": {
    "deletable": false,
    "editable": false,
    "nbgrader": {
     "cell_type": "code",
     "checksum": "37c0df2fc2b67514a7bd11e120562fa1",
     "grade": true,
     "grade_id": "cell-ca14e49ada130789",
     "locked": true,
     "points": 1,
     "schema_version": 3,
     "solution": false,
     "task": false
    }
   },
   "outputs": [
    {
     "name": "stdout",
     "output_type": "stream",
     "text": [
      "Loss error :  0.0\n",
      "Gradient check w\n",
      "numerical: 0.027196 analytic: 0.027196, relative error: 4.679166e-11\n",
      "numerical: 0.013890 analytic: 0.013890, relative error: 5.502943e-11\n",
      "numerical: -2.297823 analytic: -2.297823, relative error: 5.624153e-10\n",
      "numerical: -2.297823 analytic: -2.297823, relative error: 5.624153e-10\n",
      "numerical: 0.008644 analytic: 0.008644, relative error: 7.879709e-12\n",
      "numerical: 0.027196 analytic: 0.027196, relative error: 4.679166e-11\n",
      "numerical: 0.007423 analytic: 0.007423, relative error: 1.512329e-11\n",
      "numerical: 0.027196 analytic: 0.027196, relative error: 4.679166e-11\n",
      "numerical: 0.008644 analytic: 0.008644, relative error: 7.879709e-12\n",
      "numerical: -0.028781 analytic: -0.028781, relative error: 2.034777e-10\n",
      "numerical: -0.009087 analytic: -0.009087, relative error: 2.671376e-10\n",
      "numerical: -2.297823 analytic: -2.297823, relative error: 5.624153e-10\n",
      "numerical: -0.011252 analytic: -0.011252, relative error: 1.184730e-10\n",
      "numerical: -0.783596 analytic: -0.783596, relative error: 3.545674e-10\n",
      "numerical: -0.008943 analytic: -0.008943, relative error: 4.949602e-11\n",
      "Gradient check bias\n",
      "numerical: -0.141923 analytic: -0.141923, relative error: 6.385878e-12\n",
      "numerical: -0.141923 analytic: -0.141923, relative error: 6.385878e-12\n",
      "numerical: -0.141923 analytic: -0.141923, relative error: 6.385878e-12\n",
      "numerical: -0.141923 analytic: -0.141923, relative error: 6.385878e-12\n",
      "numerical: -0.141923 analytic: -0.141923, relative error: 6.385878e-12\n",
      "numerical: -0.141923 analytic: -0.141923, relative error: 6.385878e-12\n",
      "numerical: -0.141923 analytic: -0.141923, relative error: 6.385878e-12\n",
      "numerical: -0.141923 analytic: -0.141923, relative error: 6.385878e-12\n",
      "numerical: -0.141923 analytic: -0.141923, relative error: 6.385878e-12\n",
      "numerical: -0.141923 analytic: -0.141923, relative error: 6.385878e-12\n",
      "numerical: -0.141923 analytic: -0.141923, relative error: 6.385878e-12\n",
      "numerical: -0.141923 analytic: -0.141923, relative error: 6.385878e-12\n",
      "numerical: -0.141923 analytic: -0.141923, relative error: 6.385878e-12\n",
      "numerical: -0.141923 analytic: -0.141923, relative error: 6.385878e-12\n",
      "numerical: -0.141923 analytic: -0.141923, relative error: 6.385878e-12\n"
     ]
    }
   ],
   "source": [
    "y_pred_0 = sigmoid(X_train2 @ w2 + b2)\n",
    "y_pred = np.vstack([1-y_pred_0, y_pred_0]).T\n",
    "sk_loss = log_loss(y_train2, y_pred)\n",
    "\n",
    "loss, dw2, db2 = log_loss_vectorized(w2, b2, X_train2, y_train2, alpha=0)\n",
    "assert rel_error(loss, sk_loss) < 1e-9\n",
    "print(\"Loss error : \",rel_error(loss, sk_loss))\n",
    "\n",
    "print(\"Gradient check w\")\n",
    "# Check with numerical gradient w\n",
    "f = lambda w2: log_loss_vectorized(w2, b2, X_train2, y_train2, alpha=0)[0]\n",
    "grad_numerical = grad_check_sparse(f, w2, dw2, 15, error=1e-4)\n",
    "\n",
    "print(\"Gradient check bias\")\n",
    "# Check with numerical gradient b\n",
    "f2 = lambda b2: log_loss_vectorized(w2, b2, X_train2, y_train2, alpha=0)[0]\n",
    "grad_numerical = grad_check_sparse(f2, b2, db2, 15,  error=1e-5)"
   ]
  },
  {
   "cell_type": "markdown",
   "id": "dc7be5da",
   "metadata": {},
   "source": [
    "# Vectorized with regularization"
   ]
  },
  {
   "cell_type": "code",
   "execution_count": 106,
   "id": "a4e09127",
   "metadata": {
    "deletable": false,
    "editable": false,
    "nbgrader": {
     "cell_type": "code",
     "checksum": "53e97adc2666d529eff9ba1abcd3756a",
     "grade": true,
     "grade_id": "cell-bce082fccf8b7057",
     "locked": true,
     "points": 1,
     "schema_version": 3,
     "solution": false,
     "task": false
    }
   },
   "outputs": [
    {
     "name": "stdout",
     "output_type": "stream",
     "text": [
      "Gradient check w\n",
      "numerical: -0.001086 analytic: -0.001086, relative error: 6.009283e-10\n",
      "numerical: -0.008996 analytic: -0.008996, relative error: 1.986248e-11\n",
      "numerical: -0.000358 analytic: -0.000358, relative error: 7.566356e-10\n",
      "numerical: -0.001254 analytic: -0.001254, relative error: 2.971292e-11\n",
      "numerical: -0.523745 analytic: -0.523745, relative error: 8.927854e-10\n",
      "numerical: -0.000593 analytic: -0.000593, relative error: 1.538205e-09\n",
      "numerical: -1.882964 analytic: -1.882964, relative error: 2.875395e-10\n",
      "numerical: -0.000675 analytic: -0.000675, relative error: 7.328812e-10\n",
      "numerical: 0.016921 analytic: 0.016921, relative error: 1.608892e-10\n",
      "numerical: 0.007760 analytic: 0.007760, relative error: 1.096509e-10\n",
      "numerical: 73.683441 analytic: 73.683048, relative error: 2.669649e-06\n",
      "numerical: -1.882964 analytic: -1.882964, relative error: 2.875395e-10\n",
      "numerical: -0.008996 analytic: -0.008996, relative error: 1.986248e-11\n",
      "numerical: 6.132781 analytic: 6.132781, relative error: 1.785560e-08\n",
      "numerical: -0.001254 analytic: -0.001254, relative error: 2.971292e-11\n",
      "Gradient check bias\n",
      "numerical: -0.141923 analytic: -0.141923, relative error: 6.385878e-12\n",
      "numerical: -0.141923 analytic: -0.141923, relative error: 6.385878e-12\n",
      "numerical: -0.141923 analytic: -0.141923, relative error: 6.385878e-12\n",
      "numerical: -0.141923 analytic: -0.141923, relative error: 6.385878e-12\n",
      "numerical: -0.141923 analytic: -0.141923, relative error: 6.385878e-12\n",
      "numerical: -0.141923 analytic: -0.141923, relative error: 6.385878e-12\n",
      "numerical: -0.141923 analytic: -0.141923, relative error: 6.385878e-12\n",
      "numerical: -0.141923 analytic: -0.141923, relative error: 6.385878e-12\n",
      "numerical: -0.141923 analytic: -0.141923, relative error: 6.385878e-12\n",
      "numerical: -0.141923 analytic: -0.141923, relative error: 6.385878e-12\n",
      "numerical: -0.141923 analytic: -0.141923, relative error: 6.385878e-12\n",
      "numerical: -0.141923 analytic: -0.141923, relative error: 6.385878e-12\n",
      "numerical: -0.141923 analytic: -0.141923, relative error: 6.385878e-12\n",
      "numerical: -0.141923 analytic: -0.141923, relative error: 6.385878e-12\n",
      "numerical: -0.141923 analytic: -0.141923, relative error: 6.385878e-12\n"
     ]
    }
   ],
   "source": [
    "loss, dw2, db2 = log_loss_vectorized(w2, b2, X_train2, y_train2, alpha=1)\n",
    "\n",
    "print(\"Gradient check w\")\n",
    "# Check with numerical gradient w\n",
    "f = lambda w2: log_loss_vectorized(w2, b2, X_train2, y_train2, alpha=1)[0]\n",
    "grad_numerical = grad_check_sparse(f, w2, dw2, 15, error=1e-4)\n",
    "\n",
    "print(\"Gradient check bias\")\n",
    "# Check with numerical gradient b\n",
    "f2 = lambda b2: log_loss_vectorized(w2, b2, X_train2, y_train2, alpha=1)[0]\n",
    "grad_numerical = grad_check_sparse(f2, b2, db2, 15,  error=1e-5)"
   ]
  },
  {
   "cell_type": "markdown",
   "id": "06403ea0",
   "metadata": {},
   "source": [
    "# Gradient descent for Linear models"
   ]
  },
  {
   "cell_type": "code",
   "execution_count": 125,
   "id": "5039af1c",
   "metadata": {
    "deletable": false,
    "nbgrader": {
     "cell_type": "code",
     "checksum": "9a1783db1a1f1898028260238567bed7",
     "grade": false,
     "grade_id": "cell-485e52c0efd4f4a9",
     "locked": false,
     "schema_version": 3,
     "solution": true,
     "task": false
    }
   },
   "outputs": [],
   "source": [
    "class LinearModel():\n",
    "    def __init__(self):\n",
    "        self.w = None\n",
    "        self.b = None\n",
    "\n",
    "    def train(self, X, y, learning_rate=1e-3, alpha=0, num_iters=100, batch_size=200, verbose=False):\n",
    "        N, d = X.shape\n",
    "        \n",
    "        if self.w is None: # Initialization\n",
    "            self.w = 0.001 * np.random.randn(d)\n",
    "            self.b = 0.0\n",
    "\n",
    "        # Run stochastic gradient descent to optimize w\n",
    "        \n",
    "        loss_history = []\n",
    "        for it in range(num_iters):\n",
    "            X_batch = None\n",
    "            y_batch = None\n",
    "                                                               \n",
    "            # Sample batch_size elements in X_batch and y_batch\n",
    "            # X_batch shape is  (batch_size, d) and y_batch shape is (batch_size,)                                                                                          \n",
    "            # Hint: Use np.random.choice to generate indices\n",
    "            c = np.random.choice(N,batch_size,replace=False)\n",
    "            X_batch = X[c,:]\n",
    "            y_batch = y[c]\n",
    "            # evaluate loss and gradient\n",
    "            loss, dw, db = self.loss(X_batch, y_batch, alpha)\n",
    "            loss_history.append(loss)\n",
    "\n",
    "            # perform parameter update                                                                \n",
    "            # Update the weights w and bias b using the gradient and the learning rate.          \n",
    "            self.w -= learning_rate*dw\n",
    "            self.b -= learning_rate*db\n",
    "            \n",
    "            if verbose and it % 10000 == 0:\n",
    "                print(\"iteration %d / %d: loss %f\" % (it, num_iters, loss))\n",
    "                \n",
    "        return loss_history\n",
    "\n",
    "    def predict(self, X):\n",
    "        pass\n",
    "\n",
    "    def loss(self, X_batch, y_batch, reg):\n",
    "        pass\n",
    "\n",
    "class LinearRegressor(LinearModel):\n",
    "    \"\"\" Linear regression \"\"\"\n",
    "\n",
    "    def loss(self, X_batch, y_batch, alpha):\n",
    "        return mse_loss_vectorized(self.w, self.b, X_batch, y_batch, alpha)\n",
    "    \n",
    "    def predict(self, X):\n",
    "        return X@self.w + self.b\n",
    "\n",
    "class LogisticRegressor(LinearModel):\n",
    "    \"\"\" Linear regression \"\"\"\n",
    "\n",
    "    def loss(self, X_batch, y_batch, alpha):\n",
    "        return log_loss_vectorized(self.w, self.b, X_batch, y_batch, alpha)\n",
    "    \n",
    "    def predict(self, X):\n",
    "        \"\"\" Return prediction labels vector of 0 or 1 \"\"\"\n",
    "        prob = X@self.w + self.b\n",
    "        prob[prob>0] = 1\n",
    "        prob[prob<=0] = 0\n",
    "        return prob\n"
   ]
  },
  {
   "cell_type": "markdown",
   "id": "7fa0aa79",
   "metadata": {},
   "source": [
    "## Linear regression with gradient descent"
   ]
  },
  {
   "cell_type": "code",
   "execution_count": 120,
   "id": "86925e00",
   "metadata": {
    "deletable": false,
    "editable": false,
    "nbgrader": {
     "cell_type": "code",
     "checksum": "30f1c271b16efe670214663c10743937",
     "grade": true,
     "grade_id": "cell-92f36a3b387a4277",
     "locked": true,
     "points": 2,
     "schema_version": 3,
     "solution": false,
     "task": false
    }
   },
   "outputs": [
    {
     "name": "stdout",
     "output_type": "stream",
     "text": [
      "iteration 0 / 75000: loss 35326.999353\n",
      "iteration 10000 / 75000: loss 3709.200718\n",
      "iteration 20000 / 75000: loss 3194.399948\n",
      "iteration 30000 / 75000: loss 3549.434611\n",
      "iteration 40000 / 75000: loss 2854.799561\n",
      "iteration 50000 / 75000: loss 3511.380522\n",
      "iteration 60000 / 75000: loss 3144.369632\n",
      "iteration 70000 / 75000: loss 2763.857816\n",
      "MSE scikit-learn: 2859.6903987680657\n",
      "MSE gradient descent model : 2884.281794602913\n"
     ]
    }
   ],
   "source": [
    "from sklearn.linear_model import LinearRegression\n",
    "\n",
    "sk_model = LinearRegression(fit_intercept=True)\n",
    "sk_model.fit(X_train1, y_train1)\n",
    "sk_pred = sk_model.predict(X_train1)\n",
    "sk_mse = mean_squared_error(sk_pred, y_train1)\n",
    "\n",
    "model = LinearRegressor()\n",
    "model.train(X_train1, y_train1, num_iters=75000, batch_size=64, learning_rate=1e-2, verbose=True)\n",
    "pred = model.predict(X_train1)\n",
    "mse = mean_squared_error(pred, y_train1)\n",
    "\n",
    "print(\"MSE scikit-learn:\", sk_mse)\n",
    "print(\"MSE gradient descent model :\", mse)\n",
    "assert mse - sk_mse < 100"
   ]
  },
  {
   "cell_type": "markdown",
   "id": "d17c54d8",
   "metadata": {},
   "source": [
    "## Logistc regression with gradient descent"
   ]
  },
  {
   "cell_type": "code",
   "execution_count": 121,
   "id": "9219f422",
   "metadata": {
    "deletable": false,
    "editable": false,
    "nbgrader": {
     "cell_type": "code",
     "checksum": "c6196155f76f4eded31fefce67a76d60",
     "grade": true,
     "grade_id": "cell-925a2ddb5c1ba7ff",
     "locked": true,
     "points": 2,
     "schema_version": 3,
     "solution": false,
     "task": false
    }
   },
   "outputs": [
    {
     "name": "stdout",
     "output_type": "stream",
     "text": [
      "iteration 0 / 75000: loss 0.692918\n",
      "iteration 10000 / 75000: loss 0.154828\n",
      "iteration 20000 / 75000: loss 0.042210\n",
      "iteration 30000 / 75000: loss 0.078774\n",
      "iteration 40000 / 75000: loss 0.103919\n",
      "iteration 50000 / 75000: loss 0.069588\n",
      "iteration 60000 / 75000: loss 0.046657\n",
      "iteration 70000 / 75000: loss 0.124945\n",
      "Log-loss scikit-learn: 0.4249086712816093\n",
      "Log-loss gradiet descent model : 0.4249086712816093\n",
      "Error : 0.0\n"
     ]
    }
   ],
   "source": [
    "from sklearn.linear_model import LogisticRegression\n",
    "from sklearn.preprocessing import StandardScaler\n",
    "\n",
    "scaler = StandardScaler()\n",
    "X_train2 = scaler.fit_transform(X_train2)\n",
    "\n",
    "sk_model = LogisticRegression(fit_intercept=True)\n",
    "sk_model.fit(X_train2, y_train2)\n",
    "sk_pred = sk_model.predict(X_train2)\n",
    "sk_log_loss = log_loss(sk_pred, y_train2)\n",
    "\n",
    "model = LogisticRegressor()\n",
    "model.train(X_train2, y_train2, num_iters=75000, batch_size=64, learning_rate=1e-3, verbose=True)\n",
    "pred = model.predict(X_train2)\n",
    "model_log_loss = log_loss(pred, y_train2)\n",
    "\n",
    "print(\"Log-loss scikit-learn:\", sk_log_loss)\n",
    "print(\"Log-loss gradiet descent model :\", model_log_loss)\n",
    "print(\"Error :\", rel_error(sk_log_loss, model_log_loss))\n",
    "assert rel_error(sk_log_loss, model_log_loss) < 1e-7"
   ]
  },
  {
   "cell_type": "code",
   "execution_count": null,
   "id": "396f7431",
   "metadata": {},
   "outputs": [],
   "source": []
  }
 ],
 "metadata": {
  "kernelspec": {
   "display_name": "Python 3",
   "language": "python",
   "name": "python3"
  },
  "language_info": {
   "codemirror_mode": {
    "name": "ipython",
    "version": 3
   },
   "file_extension": ".py",
   "mimetype": "text/x-python",
   "name": "python",
   "nbconvert_exporter": "python",
   "pygments_lexer": "ipython3",
   "version": "3.8.8"
  }
 },
 "nbformat": 4,
 "nbformat_minor": 5
}
